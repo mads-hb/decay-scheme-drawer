{
 "cells": [
  {
   "cell_type": "code",
   "execution_count": null,
   "id": "52ec2b29",
   "metadata": {
    "pycharm": {
     "name": "#%%\n"
    }
   },
   "outputs": [],
   "source": [
    "from decay_scheme import *\n",
    "\n",
    "ds = decay_scheme()\n",
    "\n",
    "he8 = nuclide(0, \"8He\")\n",
    "he8_gs = level(10.664, '0', '+', lw=2.0, text_below='$\\mathrm{^{8}He}$', energy_format_string=\"%2.3f\")\n",
    "he8.add_level(he8_gs)\n",
    "ds.add_nuclide(he8)\n",
    "\n",
    "li8 = nuclide(1, \"8Li\")\n",
    "li8_gs = level(0.0, '2', '+', lw=2.0, text_below='$\\mathrm{^{8}Li}$')\n",
    "li8_1 = level(0.98, '1', '+', energy_format_string=\"%2.2f\")\n",
    "li8_2 = level(3.21, '1', '+', broad=True, upper_energy=3.21+0.5, energy_format_string=\"%2.2f\")\n",
    "li8_3 = level(5.40, '1', '+', broad=True, upper_energy=5.40+0.325, energy_format_string=\"%2.2f\")\n",
    "li8_4 = level(9.67, '1', '+', broad=True, upper_energy=9.67+0.5, energy_format_string=\"%2.2f\")\n",
    "ds.add_nuclide(li8)\n",
    "li8_levels = [li8_gs, li8_1, li8_2, li8_3, li8_4]\n",
    "for l in li8_levels:\n",
    "    li8.add_level(l)\n",
    "for l in li8_levels[1:]:\n",
    "    ds.add_decay(decay(he8, he8_gs, li8, l))\n",
    "\n",
    "li7 = nuclide(2, \"7Li\")\n",
    "li7_gs = level(2.03, '3/2', '-', lw=2.0, text_below='$\\mathrm{n+ ^{7}Li}$', energy_format_string=\"%2.2f\", energy_spin_parity_below=True)\n",
    "li7_1 = level(2.51, '1/2', '-', energy_format_string=\"%2.2f\")\n",
    "li7.add_level(li7_gs)\n",
    "li7.add_level(li7_1)\n",
    "ds.add_nuclide(li7)\n",
    "\n",
    "he5 = nuclide(3, \"5He\")\n",
    "he5_gs = level(5.2, '3/2', '-', broad=True, upper_energy=5.2+0.4, lw=2.0, text_above='$\\mathrm{t+ ^{5}He}$', energy_format_string=\"%2.1f\")\n",
    "he5.add_level(he5_gs)\n",
    "he5.add_level(level(5.2-0.735, '', '', text_below='$\\mathrm{t+ \\\\alpha + n}$', energy_spin_parity_below=True, energy_format_string=\"%2.1f\"))\n",
    "ds.add_nuclide(he5)\n",
    "ds.add_decay(decay(li8, li8_4, he5, he5_gs))\n",
    "\n",
    "li6 = nuclide(2.3, \"6Li\", skip_hor_padding=True)\n",
    "li6_2n = level(9.284, '1', '+', lw=0.7, ls=(0.5, (3.1, 3)), text_below='$\\mathrm{2n+ ^{6}Li}$', energy_format_string=\"%2.2f\", energy_spin_parity_below=True)\n",
    "li6_d = level(10.664-0.882, '0', '+', lw=0.7, ls=(0.5, (3.1, 3)), text_above='$\\mathrm{d+ ^{6}He}$', energy_format_string=\"%2.2f\")\n",
    "li6.add_level(li6_2n)\n",
    "li6.add_level(li6_d)\n",
    "\n",
    "ds.add_nuclide(li6)\n",
    "\n",
    "ds.add_freetext(freetext('84%', 1.13, 2.8, rotation=-74))\n",
    "ds.add_freetext(freetext('~1%', 1.14, 10.7, rotation=-22))\n",
    "\n",
    "ds.add_freetext(freetext('$\\Lsh$', 1.85, -1.45, rotation=180.))\n",
    "ds.add_freetext(freetext(r'$\\mathrm{^{8}Be \\rightarrow \\alpha + \\alpha}$', 1.9, -1.85, ha='left'))\n",
    "\n",
    "draw_decay_scheme(ds, MeV_to_inch=0.15, no_save=True)"
   ]
  }
 ],
 "metadata": {
  "kernelspec": {
   "display_name": "Python 3.8 (ipykernel)",
   "language": "python",
   "name": "python3.8"
  },
  "language_info": {
   "codemirror_mode": {
    "name": "ipython",
    "version": 3
   },
   "file_extension": ".py",
   "mimetype": "text/x-python",
   "name": "python",
   "nbconvert_exporter": "python",
   "pygments_lexer": "ipython3",
   "version": "3.8.13"
  }
 },
 "nbformat": 4,
 "nbformat_minor": 5
}
