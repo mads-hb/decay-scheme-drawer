{
 "cells": [
  {
   "cell_type": "code",
   "execution_count": null,
   "id": "61b676a1",
   "metadata": {
    "scrolled": false
   },
   "outputs": [],
   "source": [
    "from decay_scheme import *\n",
    "\n",
    "p7li = nuclide(0, \"p+7Li\")\n",
    "p7li_gs = level(17.25, '3/2', '-', lw=2.0, text_below='$\\mathrm{p+^{7}Li}$')\n",
    "p7li.add_level(p7li_gs)\n",
    "\n",
    "aa = nuclide(1, \"a+a\")\n",
    "aa_gs = level(-0.092, '', '', lw=2.0, text_below='$\\mathrm{\\\\alpha+\\\\alpha}$')\n",
    "aa.add_level(aa_gs)\n",
    "\n",
    "be8 = nuclide(2, \"8Be\")\n",
    "be8_gs = level(0.0, '0', '+', lw=2.0, text_below='$\\mathrm{^{8}Be}$')\n",
    "be8.add_level(be8_gs)\n",
    "be8_broad = level(3.03, '2', '+', broad=True, upper_energy=3.03+0.75, energy_format_string='%2.2f')\n",
    "be8.add_level(be8_broad)\n",
    "be8_166 = level(16.6, '2', '+', energy_format_string='%2.1f', energy_spin_parity_below=True, energy_y_adjust=+0.15, spin_parity_y_adjust=+0.15)\n",
    "be8.add_level(be8_166)\n",
    "be8_169 = level(16.9, '2', '+', energy_format_string='%2.1f')\n",
    "be8.add_level(be8_169)\n",
    "be8_176 = level(17.6, '1', '+', energy_format_string='%2.1f')\n",
    "be8.add_level(be8_176)\n",
    "be8.add_level(level(18.15, '1', '+', energy_format_string='%2.2f'))\n",
    "\n",
    "b8 = nuclide(3, \"8B\")\n",
    "b8_gs = level(17.98, '2', '+', draw_QEC_level_below=True, lw=2.0, text_below='$\\mathrm{^{8}B}$')\n",
    "b8.add_level(b8_gs)\n",
    "\n",
    "ds = decay_scheme()\n",
    "ds.add_nuclide(p7li)\n",
    "ds.add_nuclide(aa)\n",
    "ds.add_nuclide(be8)\n",
    "ds.add_nuclide(b8)\n",
    "\n",
    "ds.add_decay_to_coordinate(decay_to_coordinate(p7li, p7li_gs, 1.4, 3.))\n",
    "ds.add_decay_to_coordinate(decay_to_coordinate(p7li, p7li_gs, 2.2, 18. - 9.))\n",
    "\n",
    "ds.add_decay(decay(be8, be8_gs, aa, aa_gs))\n",
    "ds.add_decay_to_coordinate(decay_to_coordinate(be8, be8_broad, 2.3, 1.))\n",
    "ds.add_decay_to_coordinate(decay_to_coordinate(be8, be8_166, 2.3, 4.1))\n",
    "ds.add_decay_to_coordinate(decay_to_coordinate(be8, be8_169, 2.3, 5.1))\n",
    "ds.add_decay_to_coordinate(decay_to_coordinate(be8, be8_176, 2.3, 6.1))\n",
    "\n",
    "ds.add_decay(decay(b8, b8_gs, be8, be8_broad))\n",
    "ds.add_decay(decay(b8, b8_gs, be8, be8_166))\n",
    "ds.add_decay(decay(b8, b8_gs, be8, be8_169))\n",
    "\n",
    "ds.add_freetext(freetext('Direct $\\mathrm{\\\\alpha+\\\\alpha}$', 0.8, 14.6 - 9.))\n",
    "ds.add_freetext(freetext('Resonant', 1.6, 18.15 - 9.))\n",
    "ds.add_freetext(freetext('$\\mathrm{\\\\alpha}$', 2.35, 2.1))\n",
    "ds.add_freetext(freetext('$\\mathrm{\\\\beta^{+},\\,EC}$', 4.0, 15. - 9.))\n",
    "\n",
    "draw_decay_scheme(ds, exclude_y=[4., 13.], MeV_to_inch=0.3, no_save=True)"
   ]
  }
 ],
 "metadata": {
  "kernelspec": {
   "display_name": "Python 3 (ipykernel)",
   "language": "python",
   "name": "python3"
  },
  "language_info": {
   "codemirror_mode": {
    "name": "ipython",
    "version": 3
   },
   "file_extension": ".py",
   "mimetype": "text/x-python",
   "name": "python",
   "nbconvert_exporter": "python",
   "pygments_lexer": "ipython3",
   "version": "3.8.12"
  }
 },
 "nbformat": 4,
 "nbformat_minor": 5
}