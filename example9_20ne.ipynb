{
 "cells": [
  {
   "cell_type": "code",
   "execution_count": null,
   "id": "61b676a1",
   "metadata": {
    "scrolled": false,
    "pycharm": {
     "name": "#%%\n"
    }
   },
   "outputs": [],
   "source": [
    "from decay_scheme import *\n",
    "plt.rc(\"pdf\", fonttype=42)\n",
    "\n",
    "p20ne = nuclide(0, \"p+20Ne\")\n",
    "p20ne.add_level(level(0, '0', '+', lw=2.0, text_below='$\\mathrm{^{20}Ne}$'))\n",
    "ne20_2plus = level(1.634, '2', '+')\n",
    "p20ne.add_level(ne20_2plus)\n",
    "ne20_4plus = level(4.248, '4', '+', energy_spin_parity_below=True, energy_y_adjust=+.07, spin_parity_y_adjust=+.07)\n",
    "p20ne.add_level(ne20_4plus)\n",
    "p20ne.add_level(level(4.967, '2', '-', energy_spin_parity_below=True, energy_y_adjust=+.07, spin_parity_y_adjust=+.07))\n",
    "p20ne.add_level(level(5.621, '3', '-', energy_spin_parity_below=True, energy_y_adjust=+.07, spin_parity_y_adjust=+.07))\n",
    "p20ne.add_level(level(5.788, '1', '-'))\n",
    "\n",
    "ds = decay_scheme()\n",
    "ds.add_nuclide(p20ne)\n",
    "\n",
    "offset = 0.08\n",
    "ds.add_freearrow(freearrow(0.4, 1.634, 0.4, 0.    + 1.5*offset))\n",
    "ds.add_freearrow(freearrow(0.5, 4.248, 0.5, 1.634 + offset))\n",
    "ds.add_freearrow(freearrow(0.6, 4.967, 0.6, 1.634 + offset))\n",
    "ds.add_freearrow(freearrow(0.7, 5.621, 0.7, 1.634 + offset))\n",
    "\n",
    "ds.add_freearrow(freearrow(0., 5.621, -0.15, 5.))\n",
    "ds.add_freetext(freetext('$\\\\alpha$', -0.09, 6., ha='center', va='top'))\n",
    "\n",
    "ds.add_freearrow(freearrow(1.17, 5.621+0.621, 1.01, 5.621 + offset))\n",
    "ds.add_freetext(freetext('$p$', 1.09, 6.+0.621, ha='center', va='top'))\n",
    "\n",
    "draw_decay_scheme(ds, no_save=True)"
   ]
  },
  {
   "cell_type": "code",
   "execution_count": null,
   "id": "a808aea4",
   "metadata": {
    "pycharm": {
     "name": "#%%\n"
    }
   },
   "outputs": [],
   "source": []
  }
 ],
 "metadata": {
  "kernelspec": {
   "display_name": "Python 3.8 (ipykernel)",
   "language": "python",
   "name": "python3.8"
  },
  "language_info": {
   "codemirror_mode": {
    "name": "ipython",
    "version": 3
   },
   "file_extension": ".py",
   "mimetype": "text/x-python",
   "name": "python",
   "nbconvert_exporter": "python",
   "pygments_lexer": "ipython3",
   "version": "3.8.13"
  }
 },
 "nbformat": 4,
 "nbformat_minor": 5
}