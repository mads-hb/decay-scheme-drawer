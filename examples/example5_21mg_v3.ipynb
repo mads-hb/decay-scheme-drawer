{
 "cells": [
  {
   "cell_type": "code",
   "execution_count": null,
   "id": "61b676a1",
   "metadata": {
    "scrolled": false
   },
   "outputs": [],
   "source": [
    "from decay_scheme import *\n",
    "\n",
    "a17f = nuclide(0, \"a+17F\")\n",
    "a17f_gs = level(6.561, '5/2', '+', lw=2.0, text_below='$\\mathrm{\\\\alpha+^{17}F}$', draw_reference_line=True)\n",
    "a17f.add_level(a17f_gs)\n",
    "\n",
    "p20ne = nuclide(1, \"p+20Ne\")\n",
    "p20ne.add_level(level(2.431, '0', '+', lw=2.0, text_below='$\\mathrm{p+^{20}Ne}$', draw_reference_line=True))\n",
    "ne20_2plus = level(4.065, '2', '+')\n",
    "p20ne.add_level(ne20_2plus)\n",
    "ne20_4plus = level(6.679, '4', '+')\n",
    "p20ne.add_level(ne20_4plus)\n",
    "p20ne.add_level(level(7.398, '2', '-'))\n",
    "p20ne.add_level(level(8.053, '3', '-'))\n",
    "p20ne.add_level(level(9.436, '4', '-'))\n",
    "\n",
    "na21 = nuclide(2, \"21Na\")\n",
    "na21.add_level(level(0., '3/2', '+', lw=2.0, text_below='$\\mathrm{^{21}Na}$', energy_spin_parity_below=True))\n",
    "na21.add_level(level(0.332, '5/2', '+'))\n",
    "na21.add_level(level(1.716, '7/2', '+'))\n",
    "na21.add_level(level(5.020, '', '', many=True, upper_energy=5.979, hide_energy_spin_parity=True))\n",
    "na21_32plus = level(8.397, '3/2', '+', energy_y_adjust=-0.05, spin_parity_y_adjust=-0.05)\n",
    "na21.add_level(level(8.303, '(3/2,5/2,7/2)', '+', energy_spin_parity_below=True, spin_parity_x_adjust=+0.26))\n",
    "na21.add_level(na21_32plus)\n",
    "na21_ias = level(8.973, '5/2', '+', text_above='IAS')\n",
    "na21.add_level(na21_ias)\n",
    "\n",
    "mg21 = nuclide(3, \"21Mg\")\n",
    "mg21_gs = level(13.095, '5/2', '+', lw=2.0, draw_QEC_level_below=True, text_below='$\\mathrm{^{21}Mg}$')\n",
    "mg21.add_level(mg21_gs)\n",
    "\n",
    "\n",
    "\n",
    "ds = decay_scheme()\n",
    "ds.add_nuclide(na21)\n",
    "ds.add_nuclide(mg21)\n",
    "ds.add_nuclide(a17f)\n",
    "ds.add_nuclide(p20ne)\n",
    "\n",
    "ds.add_decay(decay(mg21, mg21_gs, na21, na21_ias))\n",
    "\n",
    "ds.add_decay_to_coordinate(decay_to_coordinate(na21, na21_ias, 2.4, 8.))\n",
    "ds.add_decay_to_coordinate(decay_to_coordinate(na21, na21_ias, 2.4, 7.))\n",
    "ds.add_decay_to_coordinate(decay_to_coordinate(na21, na21_ias, 2.4, 6.))\n",
    "ds.add_decay_to_coordinate(decay_to_coordinate(na21, na21_ias, 2.4, 5.))\n",
    "\n",
    "ds.add_freetext(freetext('$5\\sim6$', 2.6, 4.95, ha='left', va='top'))\n",
    "ds.add_freetext(freetext('$(3/2,5/2,7/2)^{+}$', 3.6+0.26, 4.9, ha='right', va='top'))\n",
    "ds.add_freetext(freetext('$\\mathrm{β^{+}}$', 3.75, 12.))\n",
    "ds.add_freetext(freetext('$\\mathrm{p}$', 2.45, 8.8))\n",
    "\n",
    "draw_decay_scheme(ds, figname='21mg_v3.png')"
   ]
  }
 ],
 "metadata": {
  "kernelspec": {
   "display_name": "Python 3.8 (ipykernel)",
   "language": "python",
   "name": "python3.8"
  },
  "language_info": {
   "codemirror_mode": {
    "name": "ipython",
    "version": 3
   },
   "file_extension": ".py",
   "mimetype": "text/x-python",
   "name": "python",
   "nbconvert_exporter": "python",
   "pygments_lexer": "ipython3",
   "version": "3.8.12"
  }
 },
 "nbformat": 4,
 "nbformat_minor": 5
}
