{
 "cells": [
  {
   "cell_type": "code",
   "execution_count": null,
   "id": "61b676a1",
   "metadata": {
    "scrolled": false
   },
   "outputs": [],
   "source": [
    "from decay_scheme import *\n",
    "\n",
    "b12 = nuclide(0, \"12B\")\n",
    "b12_gs = level(13.37, '1', '+', lw=2.0, text_below='$\\mathrm{^{12}B}$', energy_format_string=\"%2.2f\")\n",
    "b12.add_level(b12_gs)\n",
    "\n",
    "c12 = nuclide(1, \"12C\")\n",
    "c12_0 = level(0.0, '0', '+', lw=2.0, text_below='$\\mathrm{^{12}C}$')\n",
    "c12_1 = level(4.44, '2', '+', energy_format_string=\"%1.2f\")\n",
    "c12_2 = level(7.65, '0', '+', energy_format_string=\"%1.2f\", energy_spin_parity_below=True)\n",
    "c12_3 = level(10., '', '', ls='--', hide_energy_spin_parity=True)\n",
    "c12_4 = level(10.3, '', '', energy_format_string=\"%2.1f\")\n",
    "c12_5 = level(12.7, '1', '+', energy_format_string=\"%2.1f\")\n",
    "c12_6 = level(15.1, '1', '+', energy_format_string=\"%2.1f\", text_above='IAS')\n",
    "c12.add_level(c12_0)\n",
    "c12.add_level(c12_1)\n",
    "c12.add_level(c12_2)\n",
    "c12.add_level(c12_3)\n",
    "c12.add_level(c12_4)\n",
    "c12.add_level(c12_5)\n",
    "c12.add_level(c12_6)\n",
    "\n",
    "n12 = nuclide(2, \"12N\")\n",
    "n12_gs = level(17.34, '1', '+', lw=2.0, text_below='$\\mathrm{^{12}N}$', draw_QEC_level_below=True, energy_format_string=\"%2.2f\")\n",
    "n12.add_level(n12_gs)\n",
    "\n",
    "ds = decay_scheme()\n",
    "ds.add_nuclide(b12)\n",
    "ds.add_nuclide(c12)\n",
    "ds.add_nuclide(n12)\n",
    "\n",
    "ds.add_decay(decay(b12, b12_gs, c12, c12_0))\n",
    "ds.add_decay(decay(b12, b12_gs, c12, c12_1))\n",
    "ds.add_decay(decay(b12, b12_gs, c12, c12_2))\n",
    "ds.add_decay(decay(b12, b12_gs, c12, c12_4))\n",
    "ds.add_decay(decay(b12, b12_gs, c12, c12_5))\n",
    "\n",
    "ds.add_decay(decay(n12, n12_gs, c12, c12_0))\n",
    "ds.add_decay(decay(n12, n12_gs, c12, c12_1))\n",
    "ds.add_decay(decay(n12, n12_gs, c12, c12_2))\n",
    "ds.add_decay(decay(n12, n12_gs, c12, c12_4))\n",
    "ds.add_decay(decay(n12, n12_gs, c12, c12_5))\n",
    "ds.add_decay(decay(n12, n12_gs, c12, c12_6))\n",
    "\n",
    "ds.add_freetext(freetext('$\\mathrm{\\\\beta^{-}}$', 0.9, 12.))\n",
    "ds.add_freetext(freetext('$\\sim10$', 1.3, 9.9, va='top', ha='left'))\n",
    "ds.add_freetext(freetext('$(0^{+})$', 2.3, 9.9, va='top', ha='right'))\n",
    "ds.add_freetext(freetext('$\\mathit{Hoyle}$', 1.3 + 1/2, 9.9, va='top', ha='center'))\n",
    "ds.add_freetext(freetext('$\\mathrm{\\\\beta^{+},\\,EC}$', 2.8, 15.))\n",
    "\n",
    "draw_decay_scheme(ds, MeV_to_inch=0.15, no_save=True)"
   ]
  }
 ],
 "metadata": {
  "kernelspec": {
   "display_name": "Python 3",
   "language": "python",
   "name": "python3"
  },
  "language_info": {
   "codemirror_mode": {
    "name": "ipython",
    "version": 3
   },
   "file_extension": ".py",
   "mimetype": "text/x-python",
   "name": "python",
   "nbconvert_exporter": "python",
   "pygments_lexer": "ipython3",
   "version": "3.8.10"
  }
 },
 "nbformat": 4,
 "nbformat_minor": 5
}
